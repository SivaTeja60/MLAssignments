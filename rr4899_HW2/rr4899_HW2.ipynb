{
 "cells": [
  {
   "cell_type": "markdown",
   "metadata": {},
   "source": [
    "## For Assignment 2"
   ]
  },
  {
   "cell_type": "markdown",
   "metadata": {},
   "source": [
    "## Batch Number-10\n",
    "## Siva Teja Yadav Kukkannagari-rr4899\n",
    "## Manikanta Kodali-nv6200"
   ]
  },
  {
   "cell_type": "code",
   "execution_count": 10,
   "metadata": {},
   "outputs": [],
   "source": [
    "#Importing Libraries\n",
    "import numpy as np\n",
    "import pandas as pd\n",
    "\n",
    "import math"
   ]
  },
  {
   "cell_type": "code",
   "execution_count": 11,
   "metadata": {},
   "outputs": [
    {
     "name": "stdout",
     "output_type": "stream",
     "text": [
      "(200, 65)\n",
      "(361, 65)\n"
     ]
    }
   ],
   "source": [
    "#Loading train and test data\n",
    "train_data=pd.read_csv('C:/Users/STSC/Documents/Summer21/ML/HW2/optdigits_69_N200.tra',header=None)\n",
    "test_data=pd.read_csv('C:/Users/STSC/Documents/Summer21/ML/HW2/optdigits_69.tes',header=None)\n",
    "print(np.shape(train_data))\n",
    "print(np.shape(test_data))"
   ]
  },
  {
   "cell_type": "code",
   "execution_count": 12,
   "metadata": {},
   "outputs": [
    {
     "name": "stdout",
     "output_type": "stream",
     "text": [
      "   64\n",
      "0   6\n",
      "1   6\n",
      "2   6\n",
      "3   6\n",
      "4   6\n"
     ]
    }
   ],
   "source": [
    "#Storing the variables and labels\n",
    "train_y=pd.DataFrame(train_data.iloc[:,-1])\n",
    "train_x=pd.DataFrame(train_data.iloc[: , :-1])\n",
    "test_y=pd.DataFrame(test_data.iloc[:,-1])\n",
    "test_x=pd.DataFrame(test_data.iloc[: , :-1])\n",
    "print(train_y.head())"
   ]
  },
  {
   "cell_type": "code",
   "execution_count": 13,
   "metadata": {},
   "outputs": [
    {
     "name": "stdout",
     "output_type": "stream",
     "text": [
      "(100, 64)\n",
      "(100, 64)\n"
     ]
    }
   ],
   "source": [
    "#Segregating the class6 and class9 data \n",
    "class6_data=[]\n",
    "class9_data=[]\n",
    "for i in range(200):\n",
    "    if (train_y.iloc[i,0]==6):\n",
    "        class6_data.append(train_x.iloc[i,])\n",
    "    else:\n",
    "        class9_data.append(train_x.iloc[i,])\n",
    "print(np.shape(class6_data))    \n",
    "print(np.shape(class9_data))\n",
    "class6_data=pd.DataFrame(class6_data)\n",
    "class9_data=pd.DataFrame(class9_data)"
   ]
  },
  {
   "cell_type": "code",
   "execution_count": 14,
   "metadata": {},
   "outputs": [
    {
     "name": "stdout",
     "output_type": "stream",
     "text": [
      "(64,)\n",
      "(64,)\n",
      "(64,)\n",
      "(64,)\n"
     ]
    }
   ],
   "source": [
    "#Mean and Standard Deviations for class6 and class9\n",
    "meanarr_6=[]\n",
    "meanarr_9=[]\n",
    "std_6=[]\n",
    "std_9=[]\n",
    "for j in range(64):\n",
    "    meanarr_6.append(class6_data.iloc[:,j].mean())\n",
    "    meanarr_9.append(class9_data.iloc[:,j].mean())\n",
    "    std_6.append(class6_data.iloc[:,j].std())\n",
    "    std_9.append(class6_data.iloc[:,j].std())\n",
    "print(np.shape(meanarr_6))\n",
    "print(np.shape(meanarr_9))\n",
    "print(np.shape(std_6))\n",
    "print(np.shape(std_9))\n",
    "    "
   ]
  },
  {
   "cell_type": "code",
   "execution_count": 15,
   "metadata": {},
   "outputs": [
    {
     "name": "stdout",
     "output_type": "stream",
     "text": [
      "0.5\n",
      "0.5\n"
     ]
    }
   ],
   "source": [
    "#Calculating Probabilities for class6 and class9\n",
    "prob_9=0\n",
    "prob_6=0\n",
    "l1=len(class6_data)\n",
    "l2=len(class9_data)\n",
    "prob_6=l1/(l1+l2)\n",
    "prob_9=l2/(l1+l2)\n",
    "print(prob_6)\n",
    "print(prob_9)"
   ]
  },
  {
   "cell_type": "code",
   "execution_count": 16,
   "metadata": {
    "scrolled": true
   },
   "outputs": [
    {
     "name": "stdout",
     "output_type": "stream",
     "text": [
      "Training errors for the features:  {2: 54, 3: 86, 4: 76, 5: 64, 9: 62, 10: 59, 11: 73, 12: 59, 13: 19, 17: 55, 18: 89, 19: 84, 20: 43, 25: 99, 26: 80, 27: 77, 28: 31, 29: 4, 30: 34, 33: 43, 34: 18, 35: 51, 36: 59, 37: 73, 38: 70, 41: 44, 42: 1, 43: 24, 44: 89, 45: 92, 46: 53, 47: 92, 49: 98, 50: 44, 51: 40, 52: 78, 53: 101, 54: 35, 55: 69, 57: 93, 58: 62, 59: 70, 60: 78, 61: 49, 62: 50, 63: 88}\n",
      "\n",
      "\n",
      "Test errors for the features:  {2: 77, 3: 162, 4: 157, 5: 106, 9: 93, 10: 81, 11: 84, 12: 128, 13: 30, 17: 108, 18: 184, 19: 131, 20: 59, 25: 194, 26: 129, 27: 120, 28: 57, 29: 29, 30: 72, 33: 69, 34: 27, 35: 74, 36: 87, 37: 166, 38: 125, 41: 72, 42: 3, 43: 36, 44: 136, 45: 184, 46: 129, 47: 164, 49: 163, 50: 105, 51: 60, 52: 166, 53: 169, 54: 96, 55: 161, 57: 166, 58: 77, 59: 144, 60: 139, 61: 107, 62: 133, 63: 178}\n",
      "\n",
      "\n",
      "Best 10 features of the dataset are:  [(42, 3), (34, 27), (29, 29), (13, 30), (43, 36), (28, 57), (20, 59), (51, 60), (33, 69), (30, 72)]\n",
      "\n",
      "\n",
      "42 feature is the best feature with  3 error\n"
     ]
    }
   ],
   "source": [
    "#Finding the best features\n",
    "best = []\n",
    "k=np.array(train_y)\n",
    "l=np.array(test_y)\n",
    "testerrors = {}\n",
    "trainerrors = {}\n",
    "for col in range(64):\n",
    "    errors = 0\n",
    "    for i in range(200):\n",
    "        \n",
    "        if (std_6[col] != 0):\n",
    "            g6 = -(np.log(2*np.pi)/2) - np.log(std_6[col]) - ((train_x.iloc[i,col]-meanarr_6[col])**2)/(2*((std_6[col])**2)) + np.log(prob_6)\n",
    "        else:\n",
    "            continue\n",
    "\n",
    "        if (std_9[col] != 0):\n",
    "            g9 = -(np.log(2*np.pi)/2) - np.log(std_9[col]) - ((train_x.iloc[i,col]-meanarr_9[col])**2)/(2*((std_9[col])**2)) + np.log(prob_9)\n",
    "        else:\n",
    "            continue\n",
    "        if (g6 < g9).any():\n",
    "            #if i <100 :\n",
    "            if k[i]==6:\n",
    "                errors += 1\n",
    "        else:\n",
    "            \n",
    "            #if i>100:\n",
    "                \n",
    "            if k[i]==9:\n",
    "                errors += 1\n",
    "                \n",
    "    if errors != 0:\n",
    "        trainerrors[col] = errors\n",
    "print(\"Training errors for the features: \", trainerrors)\n",
    "print(\"\\n\")\n",
    "\n",
    "for col in range(64):\n",
    "    errors = 0\n",
    "    for i in range(361):\n",
    "        if (std_6[col] != 0):\n",
    "             t6 = -(np.log(2*np.pi)/2) - np.log(std_6[col]) - ((test_x.iloc[i,col]-meanarr_6[col])**2)/(2*((std_6[col])**2)) + np.log(prob_6)\n",
    "        else:\n",
    "            continue\n",
    "\n",
    "        if (std_9[col] != 0):\n",
    "            t9 = -(np.log(2*np.pi)/2) - np.log(std_9[col]) - ((test_x.iloc[i,col]-meanarr_9[col])**2)/(2*((std_9[col])**2)) + np.log(prob_9)\n",
    "        else:\n",
    "            continue\n",
    "        if (t6 < t9).any():\n",
    "            #if i<100:\n",
    "             if l[i]==6:\n",
    "                errors += 1\n",
    "        else:\n",
    "            #if i>100:\n",
    "            if l[i]==9:\n",
    "                errors += 1\n",
    "                \n",
    "    if errors != 0:\n",
    "        testerrors[col] = errors\n",
    "print(\"Test errors for the features: \", testerrors)\n",
    "print(\"\\n\")\n",
    "best = sorted(testerrors.items(), key=lambda k:k[1])\n",
    "best = best[:10]\n",
    "print(\"Best 10 features of the dataset are: \", best)\n",
    "print(\"\\n\")\n",
    "print(best[0][0],\"feature is the best feature with \",best[0][1],\"error\")"
   ]
  },
  {
   "cell_type": "markdown",
   "metadata": {},
   "source": [
    "## Question 2\n",
    "## Where each class of covariance matrix is different"
   ]
  },
  {
   "cell_type": "code",
   "execution_count": 17,
   "metadata": {},
   "outputs": [],
   "source": [
    "#storing train and test data \n",
    "train=pd.DataFrame(train_data.iloc[: , :-1])\n",
    "test=pd.DataFrame(test_data.iloc[: , :-1])"
   ]
  },
  {
   "cell_type": "code",
   "execution_count": 18,
   "metadata": {},
   "outputs": [
    {
     "name": "stdout",
     "output_type": "stream",
     "text": [
      "(100, 64)\n",
      "(100, 64)\n"
     ]
    }
   ],
   "source": [
    "#Segregating the class6 and class9 data \n",
    "class6_data=[]\n",
    "class9_data=[]\n",
    "for i in range(200):\n",
    "    if (train_y.iloc[i,0]==6):\n",
    "        class6_data.append(train.iloc[i,])\n",
    "    else:\n",
    "        class9_data.append(train.iloc[i,])\n",
    "print(np.shape(class6_data))    \n",
    "print(np.shape(class9_data))\n",
    "class6_data=pd.DataFrame(class6_data)\n",
    "class9_data=pd.DataFrame(class9_data)"
   ]
  },
  {
   "cell_type": "code",
   "execution_count": 19,
   "metadata": {},
   "outputs": [
    {
     "name": "stdout",
     "output_type": "stream",
     "text": [
      "(64,)\n",
      "(64,)\n",
      "(64,)\n",
      "(64,)\n"
     ]
    }
   ],
   "source": [
    "#Calculating the mean errors and standard deviations for class6 and class9\n",
    "meanarr_6=[]\n",
    "meanarr_9=[]\n",
    "std_6=[]\n",
    "std_9=[]\n",
    "for j in range(64):\n",
    "    meanarr_6.append(class6_data.iloc[:,j].mean())\n",
    "    meanarr_9.append(class9_data.iloc[:,j].mean())\n",
    "    std_6.append(class6_data.iloc[:,j].std())\n",
    "    std_9.append(class6_data.iloc[:,j].std())\n",
    "print(np.shape(meanarr_6))\n",
    "print(np.shape(meanarr_9))\n",
    "print(np.shape(std_6))\n",
    "print(np.shape(std_9))"
   ]
  },
  {
   "cell_type": "code",
   "execution_count": 20,
   "metadata": {},
   "outputs": [],
   "source": [
    "#Dropping the columns with variance or std zero\n",
    "meanarr_6=pd.DataFrame(meanarr_6)\n",
    "meanarr_9=pd.DataFrame(meanarr_9)\n",
    "train_x=train\n",
    "test_x=test\n",
    "for i in range(64):\n",
    "    \n",
    "    if (train.iloc[:,i].var()==0)| (std_6[i]==0) |(std_9[i]==0):\n",
    "        meanarr_6=meanarr_6.drop(i,axis=0)\n",
    "        meanarr_9=meanarr_9.drop(i,axis=0)\n",
    "        class6_data=class6_data.drop(i,axis=1)\n",
    "        class9_data=class9_data.drop(i,axis=1)\n",
    "        train_x=train_x.drop(i,axis=1)\n",
    "        test_x=test_x.drop(i,axis=1)"
   ]
  },
  {
   "cell_type": "code",
   "execution_count": 21,
   "metadata": {},
   "outputs": [
    {
     "name": "stdout",
     "output_type": "stream",
     "text": [
      "tp,tn,fp,fn:  100 100 0 0\n",
      "Training Error for the train data: 0.0\n",
      "tp,tn,fp,fn:  179 178 2 2\n",
      "Testing Error for the test data: 0.011080332409972304\n"
     ]
    }
   ],
   "source": [
    "#Calculating the cofficient matrix,train errors and test errors \n",
    "six,nine,p = np.cov(class6_data.T), np.cov(class9_data.T), 1/2\n",
    "z1,z2 = np.array(six), np.array(nine)\n",
    "m1, m2 = np.linalg.pinv(six), np.linalg.pinv(nine)\n",
    "A1,a1 = -1/2*(m1), m1.dot(meanarr_6)\n",
    "L1 = 1/2*(np.transpose(meanarr_6).dot(m1.dot(meanarr_6))) - 1/2*(math.log(np.linalg.det(six))+math.log(p))\n",
    "A2,a2 = -1/2*(m2), m2.dot(meanarr_9)\n",
    "L2 = 1/2*(np.transpose(meanarr_9).dot(m2.dot(meanarr_9))) - 1/2*(math.log(np.linalg.det(nine)+1)+math.log(p))\n",
    "traintp,traintn,trainfp,trainfn,testtp,testtn,testfp,testfn = 0,0,0,0,0,0,0,0\n",
    "for i,value in enumerate(np.array(train_x)):\n",
    "    g6 = ((value.T).dot(A1)).dot(value) + (a1.T).dot(value)+L1\n",
    "    g9 = ((value.T).dot(A2)).dot(value) + (a2.T).dot(value)+L2    \n",
    "    g6=np.array(g6)\n",
    "    g9=np.array(g9)\n",
    "    if g6[0] < g9[0]:\n",
    "        ptrain = 9\n",
    "    else:\n",
    "        ptrain = 6\n",
    "    \n",
    "    if ptrain == train_data.iloc[i,64]:\n",
    "        if ptrain == 6:\n",
    "            traintp += 1\n",
    "        else:\n",
    "            traintn += 1\n",
    "    else:\n",
    "        if train_data.iloc[i,64] == 6 and ptrain == 9:\n",
    "            trainfn += 1\n",
    "        else:\n",
    "            trainfp += 1\n",
    "print(\"tp,tn,fp,fn: \",traintp, traintn , trainfp, trainfn)\n",
    "print(\"Training Error for the train data:\",1-((traintp+traintn)/(traintp+traintn+trainfp+trainfn)))\n",
    "for i,value in enumerate(np.array(test_x)):\n",
    "    t6 = ((value.T).dot(A1)).dot(value) + (a1.T).dot(value)+L1\n",
    "    t9 = ((value.T).dot(A2)).dot(value) + (a2.T).dot(value)+L2    \n",
    "    t6=np.array(t6)\n",
    "    t9=np.array(t9)\n",
    "    if t6[0] < t9[0]:\n",
    "        ptrain = 9\n",
    "    else:\n",
    "        ptrain = 6\n",
    "    \n",
    "    if ptrain == test_data.iloc[i,64]:\n",
    "        if ptrain == 6:\n",
    "            testtp += 1\n",
    "        else:\n",
    "            testtn += 1\n",
    "    else:\n",
    "        if test_data.iloc[i,64] == 6 and ptrain == 9:\n",
    "            testfn += 1\n",
    "        else:\n",
    "            testfp += 1\n",
    "print(\"tp,tn,fp,fn: \",testtp, testtn , testfp, testfn)\n",
    "print(\"Testing Error for the test data:\",1-((testtp+testtn)/(testtp+testtn+testfp+testfn)))\n"
   ]
  },
  {
   "cell_type": "markdown",
   "metadata": {},
   "source": [
    "## Question3\n",
    "## Where all classes of covariance matrices are same"
   ]
  },
  {
   "cell_type": "code",
   "execution_count": 22,
   "metadata": {},
   "outputs": [
    {
     "name": "stdout",
     "output_type": "stream",
     "text": [
      "tp,tn,fp,fn:  100 100 0 0\n",
      "Training Error for the training data: 0.0\n",
      "tp,tn,fp,fn:  180 180 0 1\n",
      "Testing Error for the test data: 0.0027700831024930483\n"
     ]
    }
   ],
   "source": [
    "#Calculating the cofficient matrix,train errors and test errors\n",
    "q = prob_6*z1 + prob_9*z2\n",
    "Q = np.array(q)\n",
    "traintp1,traintn1,trainfp1,trainfn1,testtp1,testtn1,testfp1,testfn1 = 0,0,0,0,0,0,0,0\n",
    "Qinv = np.linalg.inv(Q)\n",
    "W6 = Qinv.dot(meanarr_6)\n",
    "w6 = -1/2*np.dot((np.transpose(meanarr_6)).dot(Qinv),meanarr_6) + math.log(prob_6)\n",
    "W9 = Qinv.dot(meanarr_9)\n",
    "w9 = -1/2*np.dot((np.transpose(meanarr_9)).dot(Qinv),meanarr_9) + math.log(prob_9)\n",
    "\n",
    "for i, value in enumerate(np.array(train_x)):\n",
    "    g6 = (W6.T).dot(value) + w6\n",
    "    g9 = (W9.T).dot(value) + w9\n",
    "    \n",
    "    if g6<g9:\n",
    "        pt1 = 9\n",
    "    else:\n",
    "        pt1 = 6\n",
    "    if pt1 == train_data.iloc[i,64]:\n",
    "        if pt1 == 6:\n",
    "            traintp1 += 1\n",
    "        else:\n",
    "            traintn1 += 1\n",
    "    else:\n",
    "        if train_data.iloc[i,64] == 6 and pt1 == 9:\n",
    "            trainfn1 += 1\n",
    "        else:\n",
    "            trainfp1 += 1\n",
    "print(\"tp,tn,fp,fn: \",traintp1, traintn1, trainfp1, trainfn1)\n",
    "print(\"Training Error for the training data:\",1-((traintp1+traintn1)/(traintp1+traintn1+trainfp1+trainfn1)))\n",
    "\n",
    "for i, value in enumerate(np.array(test_x)):\n",
    "    g6 = (W6.T).dot(value) + w6\n",
    "    g9 = (W9.T).dot(value) + w9\n",
    "    \n",
    "    if g6<g9:\n",
    "        pct1 = 9\n",
    "    else:\n",
    "        pct1 = 6\n",
    "    if pct1 == test_data.iloc[i,64]:\n",
    "        if pct1 == 6:\n",
    "            testtp1 += 1\n",
    "        else:\n",
    "            testtn1 += 1\n",
    "    else:\n",
    "        if test_data.iloc[i,64] == 6 and pct1 == 9:\n",
    "            testfn1 += 1\n",
    "        else:\n",
    "            testfp1 += 1\n",
    "print(\"tp,tn,fp,fn: \",testtp1, testtn1, testfp1, testfn1)\n",
    "print(\"Testing Error for the test data:\",1-((testtp1+testtn1)/(testtp1+testtn1+testfp1+testfn1)))"
   ]
  },
  {
   "cell_type": "markdown",
   "metadata": {},
   "source": [
    "## Question4\n",
    "## Using the best 10 features"
   ]
  },
  {
   "cell_type": "code",
   "execution_count": 23,
   "metadata": {},
   "outputs": [
    {
     "name": "stdout",
     "output_type": "stream",
     "text": [
      "tp,tn,fp,fn:  179 173 7 2\n",
      "Test Error with the best features: 0.024930747922437657\n"
     ]
    }
   ],
   "source": [
    "#Calculating the error considering the best 10 features\n",
    "columns,feat,t2,class6t,test2 = [],[],[],[],[]\n",
    "for i,j in best:\n",
    "    feat.append(i)\n",
    "class6_test,class9_test = class6_data.loc[:,feat],class9_data.loc[:,feat]\n",
    "t2 = test_data.iloc[:,feat]\n",
    "test = np.array(t2)\n",
    "m6,m9 = np.mean(class6_test),np.mean(class9_test) \n",
    "s6,s9 = np.cov(class6_test.T), np.cov(class9_test.T)\n",
    "z1,z2 = np.array(s6),np.array(s9)\n",
    "Z1,Z2 = np.linalg.inv(s6),np.linalg.inv(s9)\n",
    "A1,a1 = -1/2*(Z1), Z1.dot(m6)\n",
    "L1 = 1/2*(np.transpose(m6).dot(Z1.dot(m6))) - 1/2*(np.log(np.linalg.det(s6))+np.log(p))\n",
    "A2,a2 = -1/2*(Z2), Z2.dot(m9)\n",
    "L2 = 1/2*(np.transpose(m9).dot(Z2.dot(m9))) - 1/2*(np.log(np.linalg.det(s9))+np.log(p))\n",
    "tp,tn,fp,fn = 0,0,0,0\n",
    "for i, value in enumerate(np.array(test)):\n",
    "    g6 = np.dot(((value.T).dot(A1)),(value))+(a1.T).dot(value) + L1\n",
    "    g9 = ((value.T).dot(A2)).dot(value)+(a2.T).dot(value) + L2\n",
    "    if g6 < g9:\n",
    "        pt2 = 9\n",
    "    else:\n",
    "        pt2 = 6\n",
    "    if pt2 == test_data.iloc[i,64]:\n",
    "        if pt2 == 6:\n",
    "            tp += 1\n",
    "        else:\n",
    "            tn +=1\n",
    "    else:\n",
    "        if test_data.iloc[i,64] == 6 and pt2 == 9:\n",
    "            fn += 1\n",
    "        else:\n",
    "            fp += 1\n",
    "print(\"tp,tn,fp,fn: \",tp,tn,fp,fn)\n",
    "print(\"Test Error with the best features:\",1-((tp+tn)/(tp+tn+fp+fn)))"
   ]
  },
  {
   "cell_type": "markdown",
   "metadata": {},
   "source": [
    "### The test error for question-4 is greater compared to the one in question-2 as we just use only 10 features here ignoring the rest"
   ]
  },
  {
   "cell_type": "code",
   "execution_count": null,
   "metadata": {},
   "outputs": [],
   "source": []
  }
 ],
 "metadata": {
  "kernelspec": {
   "display_name": "Python 3",
   "language": "python",
   "name": "python3"
  },
  "language_info": {
   "codemirror_mode": {
    "name": "ipython",
    "version": 3
   },
   "file_extension": ".py",
   "mimetype": "text/x-python",
   "name": "python",
   "nbconvert_exporter": "python",
   "pygments_lexer": "ipython3",
   "version": "3.8.5"
  }
 },
 "nbformat": 4,
 "nbformat_minor": 4
}
