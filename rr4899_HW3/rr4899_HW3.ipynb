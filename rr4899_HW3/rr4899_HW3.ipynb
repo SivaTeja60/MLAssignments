{
 "cells": [
  {
   "cell_type": "markdown",
   "metadata": {},
   "source": [
    "# Group Id-3\n",
    "# Siva Teja Yadav - rr4899\n",
    "# Roja Balakrishnan - Pi7973"
   ]
  },
  {
   "cell_type": "code",
   "execution_count": 1,
   "metadata": {},
   "outputs": [
    {
     "name": "stdout",
     "output_type": "stream",
     "text": [
      "Requirement already satisfied: lightgbm in c:\\users\\stsc\\anaconda3\\lib\\site-packages (3.2.1)\n",
      "Requirement already satisfied: wheel in c:\\users\\stsc\\anaconda3\\lib\\site-packages (from lightgbm) (0.35.1)\n",
      "Requirement already satisfied: scipy in c:\\users\\stsc\\anaconda3\\lib\\site-packages (from lightgbm) (1.5.2)\n",
      "Requirement already satisfied: scikit-learn!=0.22.0 in c:\\users\\stsc\\anaconda3\\lib\\site-packages (from lightgbm) (0.23.2)\n",
      "Requirement already satisfied: numpy in c:\\users\\stsc\\anaconda3\\lib\\site-packages (from lightgbm) (1.19.2)\n",
      "Requirement already satisfied: joblib>=0.11 in c:\\users\\stsc\\anaconda3\\lib\\site-packages (from scikit-learn!=0.22.0->lightgbm) (0.17.0)\n",
      "Requirement already satisfied: threadpoolctl>=2.0.0 in c:\\users\\stsc\\anaconda3\\lib\\site-packages (from scikit-learn!=0.22.0->lightgbm) (2.1.0)\n"
     ]
    }
   ],
   "source": [
    "import sys\n",
    "!{sys.executable} -m pip install lightgbm"
   ]
  },
  {
   "cell_type": "code",
   "execution_count": 2,
   "metadata": {},
   "outputs": [
    {
     "name": "stdout",
     "output_type": "stream",
     "text": [
      "Requirement already satisfied: xgboost in c:\\users\\stsc\\anaconda3\\lib\\site-packages (1.4.2)\n",
      "Requirement already satisfied: scipy in c:\\users\\stsc\\anaconda3\\lib\\site-packages (from xgboost) (1.5.2)\n",
      "Requirement already satisfied: numpy in c:\\users\\stsc\\anaconda3\\lib\\site-packages (from xgboost) (1.19.2)\n"
     ]
    }
   ],
   "source": [
    "import sys\n",
    "!{sys.executable} -m pip install xgboost"
   ]
  },
  {
   "cell_type": "code",
   "execution_count": 9,
   "metadata": {},
   "outputs": [],
   "source": [
    "import numpy as np\n",
    "import pandas as pd\n",
    "import math\n",
    "from sklearn.tree import DecisionTreeClassifier\n",
    "from sklearn.model_selection import train_test_split\n",
    "from sklearn import metrics\n",
    "from sklearn.neighbors import KNeighborsClassifier\n",
    "from sklearn.tree import DecisionTreeRegressor\n",
    "from sklearn.metrics import mean_squared_error\n",
    "import random\n",
    "from sklearn import tree\n",
    "from xgboost import XGBClassifier\n",
    "import lightgbm as lgb\n",
    "from sklearn.neural_network import MLPClassifier\n",
    "from sklearn.neural_network import MLPRegressor"
   ]
  },
  {
   "cell_type": "code",
   "execution_count": 10,
   "metadata": {},
   "outputs": [],
   "source": [
    "train_data = pd.read_csv(\"optdigits.tra\",header=None)\n",
    "test_data = pd.read_csv(\"optdigits.tes\",header=None)"
   ]
  },
  {
   "cell_type": "code",
   "execution_count": 11,
   "metadata": {},
   "outputs": [
    {
     "data": {
      "text/plain": [
       "pandas.core.frame.DataFrame"
      ]
     },
     "execution_count": 11,
     "metadata": {},
     "output_type": "execute_result"
    }
   ],
   "source": [
    "type(train_data)"
   ]
  },
  {
   "cell_type": "code",
   "execution_count": 12,
   "metadata": {},
   "outputs": [
    {
     "data": {
      "text/html": [
       "<div>\n",
       "<style scoped>\n",
       "    .dataframe tbody tr th:only-of-type {\n",
       "        vertical-align: middle;\n",
       "    }\n",
       "\n",
       "    .dataframe tbody tr th {\n",
       "        vertical-align: top;\n",
       "    }\n",
       "\n",
       "    .dataframe thead th {\n",
       "        text-align: right;\n",
       "    }\n",
       "</style>\n",
       "<table border=\"1\" class=\"dataframe\">\n",
       "  <thead>\n",
       "    <tr style=\"text-align: right;\">\n",
       "      <th></th>\n",
       "      <th>0</th>\n",
       "      <th>1</th>\n",
       "      <th>2</th>\n",
       "      <th>3</th>\n",
       "      <th>4</th>\n",
       "      <th>5</th>\n",
       "      <th>6</th>\n",
       "      <th>7</th>\n",
       "      <th>8</th>\n",
       "      <th>9</th>\n",
       "      <th>...</th>\n",
       "      <th>55</th>\n",
       "      <th>56</th>\n",
       "      <th>57</th>\n",
       "      <th>58</th>\n",
       "      <th>59</th>\n",
       "      <th>60</th>\n",
       "      <th>61</th>\n",
       "      <th>62</th>\n",
       "      <th>63</th>\n",
       "      <th>64</th>\n",
       "    </tr>\n",
       "  </thead>\n",
       "  <tbody>\n",
       "    <tr>\n",
       "      <th>0</th>\n",
       "      <td>0</td>\n",
       "      <td>1</td>\n",
       "      <td>6</td>\n",
       "      <td>15</td>\n",
       "      <td>12</td>\n",
       "      <td>1</td>\n",
       "      <td>0</td>\n",
       "      <td>0</td>\n",
       "      <td>0</td>\n",
       "      <td>7</td>\n",
       "      <td>...</td>\n",
       "      <td>0</td>\n",
       "      <td>0</td>\n",
       "      <td>0</td>\n",
       "      <td>6</td>\n",
       "      <td>14</td>\n",
       "      <td>7</td>\n",
       "      <td>1</td>\n",
       "      <td>0</td>\n",
       "      <td>0</td>\n",
       "      <td>0</td>\n",
       "    </tr>\n",
       "    <tr>\n",
       "      <th>1</th>\n",
       "      <td>0</td>\n",
       "      <td>0</td>\n",
       "      <td>10</td>\n",
       "      <td>16</td>\n",
       "      <td>6</td>\n",
       "      <td>0</td>\n",
       "      <td>0</td>\n",
       "      <td>0</td>\n",
       "      <td>0</td>\n",
       "      <td>7</td>\n",
       "      <td>...</td>\n",
       "      <td>0</td>\n",
       "      <td>0</td>\n",
       "      <td>0</td>\n",
       "      <td>10</td>\n",
       "      <td>16</td>\n",
       "      <td>15</td>\n",
       "      <td>3</td>\n",
       "      <td>0</td>\n",
       "      <td>0</td>\n",
       "      <td>0</td>\n",
       "    </tr>\n",
       "    <tr>\n",
       "      <th>2</th>\n",
       "      <td>0</td>\n",
       "      <td>0</td>\n",
       "      <td>8</td>\n",
       "      <td>15</td>\n",
       "      <td>16</td>\n",
       "      <td>13</td>\n",
       "      <td>0</td>\n",
       "      <td>0</td>\n",
       "      <td>0</td>\n",
       "      <td>1</td>\n",
       "      <td>...</td>\n",
       "      <td>0</td>\n",
       "      <td>0</td>\n",
       "      <td>0</td>\n",
       "      <td>9</td>\n",
       "      <td>14</td>\n",
       "      <td>0</td>\n",
       "      <td>0</td>\n",
       "      <td>0</td>\n",
       "      <td>0</td>\n",
       "      <td>7</td>\n",
       "    </tr>\n",
       "    <tr>\n",
       "      <th>3</th>\n",
       "      <td>0</td>\n",
       "      <td>0</td>\n",
       "      <td>0</td>\n",
       "      <td>3</td>\n",
       "      <td>11</td>\n",
       "      <td>16</td>\n",
       "      <td>0</td>\n",
       "      <td>0</td>\n",
       "      <td>0</td>\n",
       "      <td>0</td>\n",
       "      <td>...</td>\n",
       "      <td>0</td>\n",
       "      <td>0</td>\n",
       "      <td>0</td>\n",
       "      <td>0</td>\n",
       "      <td>1</td>\n",
       "      <td>15</td>\n",
       "      <td>2</td>\n",
       "      <td>0</td>\n",
       "      <td>0</td>\n",
       "      <td>4</td>\n",
       "    </tr>\n",
       "    <tr>\n",
       "      <th>4</th>\n",
       "      <td>0</td>\n",
       "      <td>0</td>\n",
       "      <td>5</td>\n",
       "      <td>14</td>\n",
       "      <td>4</td>\n",
       "      <td>0</td>\n",
       "      <td>0</td>\n",
       "      <td>0</td>\n",
       "      <td>0</td>\n",
       "      <td>0</td>\n",
       "      <td>...</td>\n",
       "      <td>0</td>\n",
       "      <td>0</td>\n",
       "      <td>0</td>\n",
       "      <td>4</td>\n",
       "      <td>12</td>\n",
       "      <td>14</td>\n",
       "      <td>7</td>\n",
       "      <td>0</td>\n",
       "      <td>0</td>\n",
       "      <td>6</td>\n",
       "    </tr>\n",
       "  </tbody>\n",
       "</table>\n",
       "<p>5 rows × 65 columns</p>\n",
       "</div>"
      ],
      "text/plain": [
       "   0   1   2   3   4   5   6   7   8   9   ...  55  56  57  58  59  60  61  \\\n",
       "0   0   1   6  15  12   1   0   0   0   7  ...   0   0   0   6  14   7   1   \n",
       "1   0   0  10  16   6   0   0   0   0   7  ...   0   0   0  10  16  15   3   \n",
       "2   0   0   8  15  16  13   0   0   0   1  ...   0   0   0   9  14   0   0   \n",
       "3   0   0   0   3  11  16   0   0   0   0  ...   0   0   0   0   1  15   2   \n",
       "4   0   0   5  14   4   0   0   0   0   0  ...   0   0   0   4  12  14   7   \n",
       "\n",
       "   62  63  64  \n",
       "0   0   0   0  \n",
       "1   0   0   0  \n",
       "2   0   0   7  \n",
       "3   0   0   4  \n",
       "4   0   0   6  \n",
       "\n",
       "[5 rows x 65 columns]"
      ]
     },
     "execution_count": 12,
     "metadata": {},
     "output_type": "execute_result"
    }
   ],
   "source": [
    "train_data.head()"
   ]
  },
  {
   "cell_type": "markdown",
   "metadata": {},
   "source": [
    "## Question-1"
   ]
  },
  {
   "cell_type": "code",
   "execution_count": 13,
   "metadata": {},
   "outputs": [],
   "source": [
    "X25=train_data.groupby(train_data.columns[64]).apply(lambda s: s.sample(25))\n",
    "X100=train_data.groupby(train_data.columns[64]).apply(lambda s: s.sample(100))"
   ]
  },
  {
   "cell_type": "code",
   "execution_count": 14,
   "metadata": {},
   "outputs": [
    {
     "name": "stdout",
     "output_type": "stream",
     "text": [
      "(250, 65)\n",
      "(1000, 65)\n"
     ]
    }
   ],
   "source": [
    "print(X25.shape)\n",
    "print(X100.shape)"
   ]
  },
  {
   "cell_type": "markdown",
   "metadata": {},
   "source": [
    "## Question-2"
   ]
  },
  {
   "cell_type": "code",
   "execution_count": 15,
   "metadata": {},
   "outputs": [
    {
     "name": "stdout",
     "output_type": "stream",
     "text": [
      "Training Error for depth-2: 0.616\n",
      "Test Error for depth-2: 0.6572064552031163\n",
      "\n",
      "\n",
      "Training Error for depth-3: 0.372\n",
      "Test Error for depth-3: 0.4858096828046744\n",
      "\n",
      "\n",
      "Training Error for depth-5: 0.07599999999999996\n",
      "Test Error for depth-5: 0.31942125765164164\n",
      "\n",
      "\n",
      "Training Error for depth-10: 0.0\n",
      "Test Error for depth-10: 0.32665553700612127\n",
      "\n",
      "\n"
     ]
    },
    {
     "data": {
      "image/png": "[encoded data removed]",
      "text/plain": [
       "<Figure size 432x288 with 1 Axes>"
      ]
     },
     "metadata": {
      "needs_background": "light"
     },
     "output_type": "display_data"
    }
   ],
   "source": [
    "x_train_25 = X25[X25.columns[0:64]]\n",
    "y_train_25= X25[X25.columns[64]]\n",
    "x_test_25=test_data[test_data.columns[0:64]]\n",
    "y_test_25=test_data[test_data.columns[64]]\n",
    "max_depth = [2,3,5,10]\n",
    "for i in max_depth:\n",
    "    clf = DecisionTreeClassifier(criterion=\"entropy\", max_depth=i)\n",
    "    clf = clf.fit(x_train_25,y_train_25)\n",
    "    tree.plot_tree(clf,max_depth=i)\n",
    "    y_pred = clf.predict(x_train_25)\n",
    "    print(\"Training Error for depth-\"+str(i)+\":\",1-metrics.accuracy_score(y_train_25, y_pred))\n",
    "    y_pred = clf.predict(x_test_25)\n",
    "    print(\"Test Error for depth-\"+str(i)+\":\",1-metrics.accuracy_score(y_test_25, y_pred))\n",
    "    print(\"\\n\")"
   ]
  },
  {
   "cell_type": "code",
   "execution_count": 16,
   "metadata": {},
   "outputs": [
    {
     "name": "stdout",
     "output_type": "stream",
     "text": [
      "Training Error for depth-2: 0.633\n",
      "Test Error for depth-2: 0.6616583194212576\n",
      "\n",
      "\n",
      "Training Error for depth-3: 0.376\n",
      "Test Error for depth-3: 0.4351697273233166\n",
      "\n",
      "\n",
      "Training Error for depth-5: 0.132\n",
      "Test Error for depth-5: 0.2509738452977184\n",
      "\n",
      "\n",
      "Training Error for depth-10: 0.0\n",
      "Test Error for depth-10: 0.19143016138007796\n",
      "\n",
      "\n"
     ]
    },
    {
     "data": {
      "image/png": "[encoded data removed]",
      "text/plain": [
       "<Figure size 432x288 with 1 Axes>"
      ]
     },
     "metadata": {
      "needs_background": "light"
     },
     "output_type": "display_data"
    }
   ],
   "source": [
    "x_train_100 = X100[X100.columns[0:64]]\n",
    "y_train_100= X100[X100.columns[64]]\n",
    "x_test_100=test_data[test_data.columns[0:64]]\n",
    "y_test_100=test_data[test_data.columns[64]]\n",
    "max_depth = [2,3,5,10]\n",
    "for i in max_depth:\n",
    "    clf = DecisionTreeClassifier(criterion=\"entropy\", max_depth=i)\n",
    "    clf = clf.fit(x_train_100,y_train_100)\n",
    "    tree.plot_tree(clf,max_depth=i)\n",
    "    y_pred = clf.predict(x_train_100)\n",
    "    print(\"Training Error for depth-\"+str(i)+\":\",1-metrics.accuracy_score(y_train_100, y_pred))\n",
    "    y_pred = clf.predict(x_test_100)\n",
    "    print(\"Test Error for depth-\"+str(i)+\":\",1-metrics.accuracy_score(y_test_100, y_pred))\n",
    "    print(\"\\n\")"
   ]
  },
  {
   "cell_type": "markdown",
   "metadata": {},
   "source": [
    "### X100 test set with max_depth 10 has the best depth value as the number of instances change from 25 to 100, the error rate gets minimal"
   ]
  },
  {
   "cell_type": "markdown",
   "metadata": {},
   "source": [
    "## Question3"
   ]
  },
  {
   "cell_type": "markdown",
   "metadata": {},
   "source": [
    "## XGB"
   ]
  },
  {
   "cell_type": "code",
   "execution_count": 17,
   "metadata": {},
   "outputs": [
    {
     "name": "stderr",
     "output_type": "stream",
     "text": [
      "C:\\Users\\STSC\\anaconda3\\lib\\site-packages\\xgboost\\sklearn.py:1146: UserWarning: The use of label encoder in XGBClassifier is deprecated and will be removed in a future release. To remove this warning, do the following: 1) Pass option use_label_encoder=False when constructing XGBClassifier object; and 2) Encode your labels (y) as integers starting with 0, i.e. 0, 1, 2, ..., [num_class - 1].\n",
      "  warnings.warn(label_encoder_deprecation_msg, UserWarning)\n"
     ]
    },
    {
     "name": "stdout",
     "output_type": "stream",
     "text": [
      "Training Error for depth-2: 0.09599999999999997\n",
      "Test Error for depth-2: 0.23316638842515303\n",
      "\n",
      "\n",
      "Training Error for depth-3: 0.0\n",
      "Test Error for depth-3: 0.14468558708959378\n",
      "\n",
      "\n",
      "Training Error for depth-5: 0.0\n",
      "Test Error for depth-5: 0.1263216471897607\n",
      "\n",
      "\n",
      "Training Error for depth-7: 0.0\n",
      "Test Error for depth-7: 0.11741791875347807\n",
      "\n",
      "\n",
      "Training Error for depth-9: 0.0\n",
      "Test Error for depth-9: 0.12854757929883143\n",
      "\n",
      "\n"
     ]
    }
   ],
   "source": [
    "max_depth = [2,3,5,7,9]\n",
    "learning_rate={2:0.01,3:0.05,5:0.30,7:0.50,9:0.1}\n",
    "#min_child_wt={2:2,3:5,5:9,7:10,9:15}\n",
    "\n",
    "for i in max_depth:\n",
    "    clf = XGBClassifier(max_depth=i, learning_rate=learning_rate[i],eval_metric='mlogloss')#, min_child_wt=min_child_wt[i])\n",
    "    clf = clf.fit(x_train_25,y_train_25)\n",
    "    y_pred = clf.predict(x_train_25)\n",
    "    print(\"Training Error for depth-\"+str(i)+\":\",1-metrics.accuracy_score(y_train_25, y_pred))\n",
    "    y_pred = clf.predict(x_test_25)\n",
    "    print(\"Test Error for depth-\"+str(i)+\":\",1-metrics.accuracy_score(y_test_25, y_pred))\n",
    "    print(\"\\n\")"
   ]
  },
  {
   "cell_type": "code",
   "execution_count": 18,
   "metadata": {},
   "outputs": [
    {
     "name": "stdout",
     "output_type": "stream",
     "text": [
      "Training Error for depth-2: 0.09699999999999998\n",
      "Test Error for depth-2: 0.19866444073455758\n",
      "\n",
      "\n",
      "Training Error for depth-3: 0.0030000000000000027\n",
      "Test Error for depth-3: 0.0979410127991096\n",
      "\n",
      "\n",
      "Training Error for depth-5: 0.0\n",
      "Test Error for depth-5: 0.08903728436282698\n",
      "\n",
      "\n",
      "Training Error for depth-10: 0.0\n",
      "Test Error for depth-10: 0.08681135225375625\n",
      "\n",
      "\n"
     ]
    }
   ],
   "source": [
    "max_depth = [2,3,5,10]\n",
    "learning_rate={2:0.01,3:0.05,5:0.30,10:0.50}\n",
    "for i in max_depth:\n",
    "    clf = XGBClassifier(max_depth=i,learning_rate=learning_rate[i],eval_metric='mlogloss')\n",
    "    clf = clf.fit(x_train_100,y_train_100)\n",
    "    y_pred = clf.predict(x_train_100)\n",
    "    print(\"Training Error for depth-\"+str(i)+\":\",1-metrics.accuracy_score(y_train_100, y_pred))\n",
    "    y_pred = clf.predict(x_test_100)\n",
    "    print(\"Test Error for depth-\"+str(i)+\":\",1-metrics.accuracy_score(y_test_100, y_pred))\n",
    "    print(\"\\n\")"
   ]
  },
  {
   "cell_type": "markdown",
   "metadata": {},
   "source": [
    "## Light GBM"
   ]
  },
  {
   "cell_type": "code",
   "execution_count": 19,
   "metadata": {},
   "outputs": [
    {
     "name": "stdout",
     "output_type": "stream",
     "text": [
      "Training Error for depth-2: 0.04800000000000004\n",
      "Test Error for depth-2: 0.18753478018920422\n",
      "\n",
      "\n",
      "Training Error for depth-3: 0.0\n",
      "Test Error for depth-3: 0.1263216471897607\n",
      "\n",
      "\n",
      "Training Error for depth-5: 0.0\n",
      "Test Error for depth-5: 0.10907067334446297\n",
      "\n",
      "\n",
      "Training Error for depth-10: 0.0\n",
      "Test Error for depth-10: 0.10573177518085697\n",
      "\n",
      "\n"
     ]
    }
   ],
   "source": [
    "max_depth = [2,3,5,10]\n",
    "learning_rate={2:0.01,3:0.05,5:0.30,10:0.50}\n",
    "num_of_leaves={2:3,3:5,5:8,10:8}\n",
    "for i in max_depth:\n",
    "    clf = lgb.LGBMClassifier(max_depth=i,learning_rate=learning_rate[i],num_leaves=num_of_leaves[i])\n",
    "    clf = clf.fit(x_train_25,y_train_25)\n",
    "    y_pred = clf.predict(x_train_25)\n",
    "    print(\"Training Error for depth-\"+str(i)+\":\",1-metrics.accuracy_score(y_train_25, y_pred))\n",
    "    y_pred = clf.predict(x_test_25)\n",
    "    print(\"Test Error for depth-\"+str(i)+\":\",1-metrics.accuracy_score(y_test_25, y_pred))\n",
    "    print(\"\\n\")"
   ]
  },
  {
   "cell_type": "code",
   "execution_count": 20,
   "metadata": {},
   "outputs": [
    {
     "name": "stdout",
     "output_type": "stream",
     "text": [
      "Training Error for depth-2: 0.08099999999999996\n",
      "Test Error for depth-2: 0.17807456872565386\n",
      "\n",
      "\n",
      "Training Error for depth-3: 0.0\n",
      "Test Error for depth-3: 0.08124652198107962\n",
      "\n",
      "\n",
      "Training Error for depth-5: 0.0\n",
      "Test Error for depth-5: 0.0690038953811909\n",
      "\n",
      "\n",
      "Training Error for depth-10: 0.0\n",
      "Test Error for depth-10: 0.0656649972175849\n",
      "\n",
      "\n"
     ]
    }
   ],
   "source": [
    "max_depth = [2,3,5,10]\n",
    "learning_rate={2:0.01,3:0.05,5:0.30,10:0.50}\n",
    "num_of_leaves={2:3,3:5,5:8,10:8}\n",
    "for i in max_depth:\n",
    "    clf = lgb.LGBMClassifier(max_depth=i,learning_rate=learning_rate[i],num_leaves=num_of_leaves[i])\n",
    "    clf = clf.fit(x_train_100,y_train_100)\n",
    "    y_pred = clf.predict(x_train_100)\n",
    "    print(\"Training Error for depth-\"+str(i)+\":\",1-metrics.accuracy_score(y_train_100, y_pred))\n",
    "    y_pred = clf.predict(x_test_100)\n",
    "    print(\"Test Error for depth-\"+str(i)+\":\",1-metrics.accuracy_score(y_test_100, y_pred))\n",
    "    print(\"\\n\")"
   ]
  },
  {
   "cell_type": "markdown",
   "metadata": {},
   "source": [
    "## Question4"
   ]
  },
  {
   "cell_type": "code",
   "execution_count": 21,
   "metadata": {},
   "outputs": [
    {
     "name": "stdout",
     "output_type": "stream",
     "text": [
      "Training Error for hidden_layers-2: 0.888\n",
      "Test Error for depth-2: 0.8781302170283807\n",
      "\n",
      "\n",
      "Training Error for hidden_layers-3: 0.808\n",
      "Test Error for depth-3: 0.813578185865331\n",
      "\n",
      "\n"
     ]
    },
    {
     "name": "stderr",
     "output_type": "stream",
     "text": [
      "C:\\Users\\STSC\\anaconda3\\lib\\site-packages\\sklearn\\neural_network\\_multilayer_perceptron.py:582: ConvergenceWarning: Stochastic Optimizer: Maximum iterations (1800) reached and the optimization hasn't converged yet.\n",
      "  warnings.warn(\n"
     ]
    },
    {
     "name": "stdout",
     "output_type": "stream",
     "text": [
      "Training Error for hidden_layers-5: 0.06399999999999995\n",
      "Test Error for depth-5: 0.2643294379521425\n",
      "\n",
      "\n",
      "Training Error for hidden_layers-10: 0.0040000000000000036\n",
      "Test Error for depth-10: 0.1752921535893155\n",
      "\n",
      "\n"
     ]
    }
   ],
   "source": [
    "Hid_layers = [2,3,5,10]\n",
    "max_iterations={2:1000,3:1400,5:1800,10:2000}\n",
    "for i in max_depth:\n",
    "    clf = MLPClassifier(hidden_layer_sizes=(i,),max_iter=max_iterations[i],activation = 'relu',solver='adam',random_state=1)\n",
    "    clf = clf.fit(x_train_25,y_train_25)\n",
    "    y_pred = clf.predict(x_train_25)\n",
    "    print(\"Training Error for hidden_layers-\"+str(i)+\":\",1-metrics.accuracy_score(y_train_25, y_pred))\n",
    "    y_pred = clf.predict(x_test_25)\n",
    "    print(\"Test Error for depth-\"+str(i)+\":\",1-metrics.accuracy_score(y_test_25, y_pred))\n",
    "    print(\"\\n\")"
   ]
  },
  {
   "cell_type": "code",
   "execution_count": 22,
   "metadata": {},
   "outputs": [
    {
     "name": "stdout",
     "output_type": "stream",
     "text": [
      "Training Error for hidden_layers-2: 0.899\n",
      "Test Error for hidden layers-2: 0.902615470228158\n",
      "\n",
      "\n"
     ]
    },
    {
     "name": "stderr",
     "output_type": "stream",
     "text": [
      "C:\\Users\\STSC\\anaconda3\\lib\\site-packages\\sklearn\\neural_network\\_multilayer_perceptron.py:582: ConvergenceWarning: Stochastic Optimizer: Maximum iterations (1400) reached and the optimization hasn't converged yet.\n",
      "  warnings.warn(\n"
     ]
    },
    {
     "name": "stdout",
     "output_type": "stream",
     "text": [
      "Training Error for hidden_layers-3: 0.121\n",
      "Test Error for hidden layers-3: 0.21202003338898168\n",
      "\n",
      "\n",
      "Training Error for hidden_layers-5: 0.0040000000000000036\n",
      "Test Error for hidden layers-5: 0.13689482470784642\n",
      "\n",
      "\n",
      "Training Error for hidden_layers-10: 0.0\n",
      "Test Error for hidden layers-10: 0.09181969949916524\n",
      "\n",
      "\n"
     ]
    }
   ],
   "source": [
    "Hid_layers = [2,3,5,10]\n",
    "max_iterations={2:1000,3:1400,5:1800,10:2000}\n",
    "for i in max_depth:\n",
    "    clf = MLPClassifier(hidden_layer_sizes=(i,),max_iter=max_iterations[i],activation = 'relu',solver='adam',random_state=1)\n",
    "    clf = clf.fit(x_train_100,y_train_100)\n",
    "    y_pred = clf.predict(x_train_100)\n",
    "    print(\"Training Error for hidden_layers-\"+str(i)+\":\",1-metrics.accuracy_score(y_train_100, y_pred))\n",
    "    y_pred = clf.predict(x_test_100)\n",
    "    print(\"Test Error for hidden layers-\"+str(i)+\":\",1-metrics.accuracy_score(y_test_100, y_pred))\n",
    "    print(\"\\n\")"
   ]
  },
  {
   "cell_type": "markdown",
   "metadata": {},
   "source": [
    "## Question 5"
   ]
  },
  {
   "cell_type": "code",
   "execution_count": 23,
   "metadata": {
    "scrolled": true
   },
   "outputs": [
    {
     "name": "stdout",
     "output_type": "stream",
     "text": [
      "Error for each of the  16 features: \n"
     ]
    },
    {
     "name": "stderr",
     "output_type": "stream",
     "text": [
      "C:\\Users\\STSC\\anaconda3\\lib\\site-packages\\sklearn\\neural_network\\_multilayer_perceptron.py:582: ConvergenceWarning: Stochastic Optimizer: Maximum iterations (200) reached and the optimization hasn't converged yet.\n",
      "  warnings.warn(\n"
     ]
    },
    {
     "name": "stdout",
     "output_type": "stream",
     "text": [
      "The test Error for feature 48: 0.5859779697561194\n",
      "it is a easy to predict\n"
     ]
    },
    {
     "name": "stderr",
     "output_type": "stream",
     "text": [
      "C:\\Users\\STSC\\anaconda3\\lib\\site-packages\\sklearn\\neural_network\\_multilayer_perceptron.py:582: ConvergenceWarning: Stochastic Optimizer: Maximum iterations (200) reached and the optimization hasn't converged yet.\n",
      "  warnings.warn(\n"
     ]
    },
    {
     "name": "stdout",
     "output_type": "stream",
     "text": [
      "The test Error for feature 49: 0.8936949532427456\n",
      "it is a easy to predict\n"
     ]
    },
    {
     "name": "stderr",
     "output_type": "stream",
     "text": [
      "C:\\Users\\STSC\\anaconda3\\lib\\site-packages\\sklearn\\neural_network\\_multilayer_perceptron.py:582: ConvergenceWarning: Stochastic Optimizer: Maximum iterations (200) reached and the optimization hasn't converged yet.\n",
      "  warnings.warn(\n"
     ]
    },
    {
     "name": "stdout",
     "output_type": "stream",
     "text": [
      "The test Error for feature 50: 2.277064680521246\n",
      "It is not easy to predict\n"
     ]
    },
    {
     "name": "stderr",
     "output_type": "stream",
     "text": [
      "C:\\Users\\STSC\\anaconda3\\lib\\site-packages\\sklearn\\neural_network\\_multilayer_perceptron.py:582: ConvergenceWarning: Stochastic Optimizer: Maximum iterations (200) reached and the optimization hasn't converged yet.\n",
      "  warnings.warn(\n"
     ]
    },
    {
     "name": "stdout",
     "output_type": "stream",
     "text": [
      "The test Error for feature 51: 2.4289573968992686\n",
      "It is not easy to predict\n"
     ]
    },
    {
     "name": "stderr",
     "output_type": "stream",
     "text": [
      "C:\\Users\\STSC\\anaconda3\\lib\\site-packages\\sklearn\\neural_network\\_multilayer_perceptron.py:582: ConvergenceWarning: Stochastic Optimizer: Maximum iterations (200) reached and the optimization hasn't converged yet.\n",
      "  warnings.warn(\n"
     ]
    },
    {
     "name": "stdout",
     "output_type": "stream",
     "text": [
      "The test Error for feature 52: 3.3684098329033305\n",
      "It is not easy to predict\n"
     ]
    },
    {
     "name": "stderr",
     "output_type": "stream",
     "text": [
      "C:\\Users\\STSC\\anaconda3\\lib\\site-packages\\sklearn\\neural_network\\_multilayer_perceptron.py:582: ConvergenceWarning: Stochastic Optimizer: Maximum iterations (200) reached and the optimization hasn't converged yet.\n",
      "  warnings.warn(\n"
     ]
    },
    {
     "name": "stdout",
     "output_type": "stream",
     "text": [
      "The test Error for feature 53: 3.5749863449760704\n",
      "It is not easy to predict\n"
     ]
    },
    {
     "name": "stderr",
     "output_type": "stream",
     "text": [
      "C:\\Users\\STSC\\anaconda3\\lib\\site-packages\\sklearn\\neural_network\\_multilayer_perceptron.py:582: ConvergenceWarning: Stochastic Optimizer: Maximum iterations (200) reached and the optimization hasn't converged yet.\n",
      "  warnings.warn(\n"
     ]
    },
    {
     "name": "stdout",
     "output_type": "stream",
     "text": [
      "The test Error for feature 54: 3.013061819632327\n",
      "It is not easy to predict\n"
     ]
    },
    {
     "name": "stderr",
     "output_type": "stream",
     "text": [
      "C:\\Users\\STSC\\anaconda3\\lib\\site-packages\\sklearn\\neural_network\\_multilayer_perceptron.py:582: ConvergenceWarning: Stochastic Optimizer: Maximum iterations (200) reached and the optimization hasn't converged yet.\n",
      "  warnings.warn(\n"
     ]
    },
    {
     "name": "stdout",
     "output_type": "stream",
     "text": [
      "The test Error for feature 55: 1.7005239300155197\n",
      "it is a easy to predict\n"
     ]
    },
    {
     "name": "stderr",
     "output_type": "stream",
     "text": [
      "C:\\Users\\STSC\\anaconda3\\lib\\site-packages\\sklearn\\neural_network\\_multilayer_perceptron.py:582: ConvergenceWarning: Stochastic Optimizer: Maximum iterations (200) reached and the optimization hasn't converged yet.\n",
      "  warnings.warn(\n"
     ]
    },
    {
     "name": "stdout",
     "output_type": "stream",
     "text": [
      "The test Error for feature 56: 0.5859779697561194\n",
      "it is a easy to predict\n"
     ]
    },
    {
     "name": "stderr",
     "output_type": "stream",
     "text": [
      "C:\\Users\\STSC\\anaconda3\\lib\\site-packages\\sklearn\\neural_network\\_multilayer_perceptron.py:582: ConvergenceWarning: Stochastic Optimizer: Maximum iterations (200) reached and the optimization hasn't converged yet.\n",
      "  warnings.warn(\n"
     ]
    },
    {
     "name": "stdout",
     "output_type": "stream",
     "text": [
      "The test Error for feature 57: 0.6022645740757782\n",
      "it is a easy to predict\n"
     ]
    },
    {
     "name": "stderr",
     "output_type": "stream",
     "text": [
      "C:\\Users\\STSC\\anaconda3\\lib\\site-packages\\sklearn\\neural_network\\_multilayer_perceptron.py:582: ConvergenceWarning: Stochastic Optimizer: Maximum iterations (200) reached and the optimization hasn't converged yet.\n",
      "  warnings.warn(\n"
     ]
    },
    {
     "name": "stdout",
     "output_type": "stream",
     "text": [
      "The test Error for feature 58: 1.2227803161859117\n",
      "it is a easy to predict\n"
     ]
    },
    {
     "name": "stderr",
     "output_type": "stream",
     "text": [
      "C:\\Users\\STSC\\anaconda3\\lib\\site-packages\\sklearn\\neural_network\\_multilayer_perceptron.py:582: ConvergenceWarning: Stochastic Optimizer: Maximum iterations (200) reached and the optimization hasn't converged yet.\n",
      "  warnings.warn(\n"
     ]
    },
    {
     "name": "stdout",
     "output_type": "stream",
     "text": [
      "The test Error for feature 59: 2.236940117447421\n",
      "It is not easy to predict\n"
     ]
    },
    {
     "name": "stderr",
     "output_type": "stream",
     "text": [
      "C:\\Users\\STSC\\anaconda3\\lib\\site-packages\\sklearn\\neural_network\\_multilayer_perceptron.py:582: ConvergenceWarning: Stochastic Optimizer: Maximum iterations (200) reached and the optimization hasn't converged yet.\n",
      "  warnings.warn(\n"
     ]
    },
    {
     "name": "stdout",
     "output_type": "stream",
     "text": [
      "The test Error for feature 60: 1.565086252395906\n",
      "it is a easy to predict\n"
     ]
    },
    {
     "name": "stderr",
     "output_type": "stream",
     "text": [
      "C:\\Users\\STSC\\anaconda3\\lib\\site-packages\\sklearn\\neural_network\\_multilayer_perceptron.py:582: ConvergenceWarning: Stochastic Optimizer: Maximum iterations (200) reached and the optimization hasn't converged yet.\n",
      "  warnings.warn(\n"
     ]
    },
    {
     "name": "stdout",
     "output_type": "stream",
     "text": [
      "The test Error for feature 61: 2.921118335465197\n",
      "It is not easy to predict\n"
     ]
    },
    {
     "name": "stderr",
     "output_type": "stream",
     "text": [
      "C:\\Users\\STSC\\anaconda3\\lib\\site-packages\\sklearn\\neural_network\\_multilayer_perceptron.py:582: ConvergenceWarning: Stochastic Optimizer: Maximum iterations (200) reached and the optimization hasn't converged yet.\n",
      "  warnings.warn(\n"
     ]
    },
    {
     "name": "stdout",
     "output_type": "stream",
     "text": [
      "The test Error for feature 62: 4.141340567302395\n",
      "It is not easy to predict\n",
      "The test Error for feature 63: 1.243575149179605\n",
      "it is a easy to predict\n"
     ]
    },
    {
     "name": "stderr",
     "output_type": "stream",
     "text": [
      "C:\\Users\\STSC\\anaconda3\\lib\\site-packages\\sklearn\\neural_network\\_multilayer_perceptron.py:582: ConvergenceWarning: Stochastic Optimizer: Maximum iterations (200) reached and the optimization hasn't converged yet.\n",
      "  warnings.warn(\n"
     ]
    }
   ],
   "source": [
    "X100_class69 = train_data[train_data[64] == 6].sample(100)\n",
    "X100_class69 = X100_class69.append(train_data[train_data[64] == 9].sample(100))\n",
    "xtrain = X100_class69[X100_class69.columns[1:48]]\n",
    "test69 = test_data[test_data[64] == 6]\n",
    "test69.append(test_data[test_data[64] == 9])\n",
    "xtest = test69[test69.columns[1:48]]\n",
    "regressormodel = MLPRegressor(random_state = 0)\n",
    "print(\"Error for each of the  16 features: \")\n",
    "for i in range(48,64):\n",
    "    ytrain = X100_class69[i]\n",
    "    ytest = test69[i]\n",
    "    regressormodel.fit(xtrain, ytrain)\n",
    "    pred = regressormodel.predict(xtest)\n",
    "    print(f\"The test Error for feature {i}: {math.sqrt(mean_squared_error(ytest,pred))}\")\n",
    "    if math.sqrt(mean_squared_error(ytest,pred))<=2:\n",
    "        print(\"it is a easy to predict\")\n",
    "    else:\n",
    "        print('It is not easy to predict')"
   ]
  },
  {
   "cell_type": "markdown",
   "metadata": {},
   "source": [
    "### Pixels 48, 56 and 57 have got less error rate "
   ]
  },
  {
   "cell_type": "code",
   "execution_count": null,
   "metadata": {},
   "outputs": [],
   "source": []
  },
  {
   "cell_type": "code",
   "execution_count": null,
   "metadata": {},
   "outputs": [],
   "source": []
  },
  {
   "cell_type": "code",
   "execution_count": null,
   "metadata": {},
   "outputs": [],
   "source": []
  }
 ],
 "metadata": {
  "kernelspec": {
   "display_name": "Python 3",
   "language": "python",
   "name": "python3"
  },
  "language_info": {
   "codemirror_mode": {
    "name": "ipython",
    "version": 3
   },
   "file_extension": ".py",
   "mimetype": "text/x-python",
   "name": "python",
   "nbconvert_exporter": "python",
   "pygments_lexer": "ipython3",
   "version": "3.8.5"
  }
 },
 "nbformat": 4,
 "nbformat_minor": 4
}
