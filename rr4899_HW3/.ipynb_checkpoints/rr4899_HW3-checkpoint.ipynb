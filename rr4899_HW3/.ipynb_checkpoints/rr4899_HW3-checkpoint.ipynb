{
 "cells": [
  {
   "cell_type": "markdown",
   "metadata": {},
   "source": [
    "# Group Id-3\n",
    "# Siva Teja Yadav - rr4899\n",
    "# Roja Balakrishnan - Pi7973"
   ]
  },
  {
   "cell_type": "code",
   "execution_count": 1,
   "metadata": {},
   "outputs": [
    {
     "name": "stdout",
     "output_type": "stream",
     "text": [
      "Requirement already satisfied: lightgbm in c:\\users\\stsc\\anaconda3\\lib\\site-packages (3.2.1)\n",
      "Requirement already satisfied: scipy in c:\\users\\stsc\\anaconda3\\lib\\site-packages (from lightgbm) (1.5.2)\n",
      "Requirement already satisfied: wheel in c:\\users\\stsc\\anaconda3\\lib\\site-packages (from lightgbm) (0.35.1)\n",
      "Requirement already satisfied: scikit-learn!=0.22.0 in c:\\users\\stsc\\anaconda3\\lib\\site-packages (from lightgbm) (0.23.2)\n",
      "Requirement already satisfied: numpy in c:\\users\\stsc\\anaconda3\\lib\\site-packages (from lightgbm) (1.19.2)\n",
      "Requirement already satisfied: joblib>=0.11 in c:\\users\\stsc\\anaconda3\\lib\\site-packages (from scikit-learn!=0.22.0->lightgbm) (0.17.0)\n",
      "Requirement already satisfied: threadpoolctl>=2.0.0 in c:\\users\\stsc\\anaconda3\\lib\\site-packages (from scikit-learn!=0.22.0->lightgbm) (2.1.0)\n"
     ]
    }
   ],
   "source": [
    "import sys\n",
    "!{sys.executable} -m pip install lightgbm"
   ]
  },
  {
   "cell_type": "code",
   "execution_count": 2,
   "metadata": {},
   "outputs": [
    {
     "name": "stdout",
     "output_type": "stream",
     "text": [
      "Requirement already satisfied: xgboost in c:\\users\\stsc\\anaconda3\\lib\\site-packages (1.4.2)\n",
      "Requirement already satisfied: numpy in c:\\users\\stsc\\anaconda3\\lib\\site-packages (from xgboost) (1.19.2)\n",
      "Requirement already satisfied: scipy in c:\\users\\stsc\\anaconda3\\lib\\site-packages (from xgboost) (1.5.2)\n"
     ]
    }
   ],
   "source": [
    "import sys\n",
    "!{sys.executable} -m pip install xgboost"
   ]
  },
  {
   "cell_type": "code",
   "execution_count": 31,
   "metadata": {},
   "outputs": [],
   "source": [
    "import numpy as np\n",
    "import pandas as pd\n",
    "import math\n",
    "from sklearn.tree import DecisionTreeClassifier\n",
    "from sklearn.model_selection import train_test_split\n",
    "from sklearn import metrics\n",
    "from sklearn.neighbors import KNeighborsClassifier\n",
    "from sklearn.tree import DecisionTreeRegressor\n",
    "from sklearn.metrics import mean_squared_error\n",
    "import random\n",
    "from sklearn import tree\n",
    "from xgboost import XGBClassifier\n",
    "import lightgbm as lgb\n",
    "from sklearn.neural_network import MLPClassifier\n",
    "from sklearn.neural_network import MLPRegressor"
   ]
  },
  {
   "cell_type": "code",
   "execution_count": 4,
   "metadata": {},
   "outputs": [],
   "source": [
    "train_data = pd.read_csv(\"optdigits.tra\",header=None)\n",
    "test_data = pd.read_csv(\"optdigits.tes\",header=None)"
   ]
  },
  {
   "cell_type": "code",
   "execution_count": 5,
   "metadata": {},
   "outputs": [
    {
     "data": {
      "text/plain": [
       "pandas.core.frame.DataFrame"
      ]
     },
     "execution_count": 5,
     "metadata": {},
     "output_type": "execute_result"
    }
   ],
   "source": [
    "type(train_data)"
   ]
  },
  {
   "cell_type": "code",
   "execution_count": 6,
   "metadata": {},
   "outputs": [
    {
     "data": {
      "text/html": [
       "<div>\n",
       "<style scoped>\n",
       "    .dataframe tbody tr th:only-of-type {\n",
       "        vertical-align: middle;\n",
       "    }\n",
       "\n",
       "    .dataframe tbody tr th {\n",
       "        vertical-align: top;\n",
       "    }\n",
       "\n",
       "    .dataframe thead th {\n",
       "        text-align: right;\n",
       "    }\n",
       "</style>\n",
       "<table border=\"1\" class=\"dataframe\">\n",
       "  <thead>\n",
       "    <tr style=\"text-align: right;\">\n",
       "      <th></th>\n",
       "      <th>0</th>\n",
       "      <th>1</th>\n",
       "      <th>2</th>\n",
       "      <th>3</th>\n",
       "      <th>4</th>\n",
       "      <th>5</th>\n",
       "      <th>6</th>\n",
       "      <th>7</th>\n",
       "      <th>8</th>\n",
       "      <th>9</th>\n",
       "      <th>...</th>\n",
       "      <th>55</th>\n",
       "      <th>56</th>\n",
       "      <th>57</th>\n",
       "      <th>58</th>\n",
       "      <th>59</th>\n",
       "      <th>60</th>\n",
       "      <th>61</th>\n",
       "      <th>62</th>\n",
       "      <th>63</th>\n",
       "      <th>64</th>\n",
       "    </tr>\n",
       "  </thead>\n",
       "  <tbody>\n",
       "    <tr>\n",
       "      <th>0</th>\n",
       "      <td>0</td>\n",
       "      <td>1</td>\n",
       "      <td>6</td>\n",
       "      <td>15</td>\n",
       "      <td>12</td>\n",
       "      <td>1</td>\n",
       "      <td>0</td>\n",
       "      <td>0</td>\n",
       "      <td>0</td>\n",
       "      <td>7</td>\n",
       "      <td>...</td>\n",
       "      <td>0</td>\n",
       "      <td>0</td>\n",
       "      <td>0</td>\n",
       "      <td>6</td>\n",
       "      <td>14</td>\n",
       "      <td>7</td>\n",
       "      <td>1</td>\n",
       "      <td>0</td>\n",
       "      <td>0</td>\n",
       "      <td>0</td>\n",
       "    </tr>\n",
       "    <tr>\n",
       "      <th>1</th>\n",
       "      <td>0</td>\n",
       "      <td>0</td>\n",
       "      <td>10</td>\n",
       "      <td>16</td>\n",
       "      <td>6</td>\n",
       "      <td>0</td>\n",
       "      <td>0</td>\n",
       "      <td>0</td>\n",
       "      <td>0</td>\n",
       "      <td>7</td>\n",
       "      <td>...</td>\n",
       "      <td>0</td>\n",
       "      <td>0</td>\n",
       "      <td>0</td>\n",
       "      <td>10</td>\n",
       "      <td>16</td>\n",
       "      <td>15</td>\n",
       "      <td>3</td>\n",
       "      <td>0</td>\n",
       "      <td>0</td>\n",
       "      <td>0</td>\n",
       "    </tr>\n",
       "    <tr>\n",
       "      <th>2</th>\n",
       "      <td>0</td>\n",
       "      <td>0</td>\n",
       "      <td>8</td>\n",
       "      <td>15</td>\n",
       "      <td>16</td>\n",
       "      <td>13</td>\n",
       "      <td>0</td>\n",
       "      <td>0</td>\n",
       "      <td>0</td>\n",
       "      <td>1</td>\n",
       "      <td>...</td>\n",
       "      <td>0</td>\n",
       "      <td>0</td>\n",
       "      <td>0</td>\n",
       "      <td>9</td>\n",
       "      <td>14</td>\n",
       "      <td>0</td>\n",
       "      <td>0</td>\n",
       "      <td>0</td>\n",
       "      <td>0</td>\n",
       "      <td>7</td>\n",
       "    </tr>\n",
       "    <tr>\n",
       "      <th>3</th>\n",
       "      <td>0</td>\n",
       "      <td>0</td>\n",
       "      <td>0</td>\n",
       "      <td>3</td>\n",
       "      <td>11</td>\n",
       "      <td>16</td>\n",
       "      <td>0</td>\n",
       "      <td>0</td>\n",
       "      <td>0</td>\n",
       "      <td>0</td>\n",
       "      <td>...</td>\n",
       "      <td>0</td>\n",
       "      <td>0</td>\n",
       "      <td>0</td>\n",
       "      <td>0</td>\n",
       "      <td>1</td>\n",
       "      <td>15</td>\n",
       "      <td>2</td>\n",
       "      <td>0</td>\n",
       "      <td>0</td>\n",
       "      <td>4</td>\n",
       "    </tr>\n",
       "    <tr>\n",
       "      <th>4</th>\n",
       "      <td>0</td>\n",
       "      <td>0</td>\n",
       "      <td>5</td>\n",
       "      <td>14</td>\n",
       "      <td>4</td>\n",
       "      <td>0</td>\n",
       "      <td>0</td>\n",
       "      <td>0</td>\n",
       "      <td>0</td>\n",
       "      <td>0</td>\n",
       "      <td>...</td>\n",
       "      <td>0</td>\n",
       "      <td>0</td>\n",
       "      <td>0</td>\n",
       "      <td>4</td>\n",
       "      <td>12</td>\n",
       "      <td>14</td>\n",
       "      <td>7</td>\n",
       "      <td>0</td>\n",
       "      <td>0</td>\n",
       "      <td>6</td>\n",
       "    </tr>\n",
       "  </tbody>\n",
       "</table>\n",
       "<p>5 rows × 65 columns</p>\n",
       "</div>"
      ],
      "text/plain": [
       "   0   1   2   3   4   5   6   7   8   9   ...  55  56  57  58  59  60  61  \\\n",
       "0   0   1   6  15  12   1   0   0   0   7  ...   0   0   0   6  14   7   1   \n",
       "1   0   0  10  16   6   0   0   0   0   7  ...   0   0   0  10  16  15   3   \n",
       "2   0   0   8  15  16  13   0   0   0   1  ...   0   0   0   9  14   0   0   \n",
       "3   0   0   0   3  11  16   0   0   0   0  ...   0   0   0   0   1  15   2   \n",
       "4   0   0   5  14   4   0   0   0   0   0  ...   0   0   0   4  12  14   7   \n",
       "\n",
       "   62  63  64  \n",
       "0   0   0   0  \n",
       "1   0   0   0  \n",
       "2   0   0   7  \n",
       "3   0   0   4  \n",
       "4   0   0   6  \n",
       "\n",
       "[5 rows x 65 columns]"
      ]
     },
     "execution_count": 6,
     "metadata": {},
     "output_type": "execute_result"
    }
   ],
   "source": [
    "train_data.head()"
   ]
  },
  {
   "cell_type": "markdown",
   "metadata": {},
   "source": [
    "## Question-1"
   ]
  },
  {
   "cell_type": "code",
   "execution_count": 7,
   "metadata": {},
   "outputs": [],
   "source": [
    "X25=train_data.groupby(train_data.columns[64]).apply(lambda s: s.sample(25))\n",
    "X100=train_data.groupby(train_data.columns[64]).apply(lambda s: s.sample(100))"
   ]
  },
  {
   "cell_type": "code",
   "execution_count": 8,
   "metadata": {},
   "outputs": [
    {
     "name": "stdout",
     "output_type": "stream",
     "text": [
      "(250, 65)\n",
      "(1000, 65)\n"
     ]
    }
   ],
   "source": [
    "print(X25.shape)\n",
    "print(X100.shape)"
   ]
  },
  {
   "cell_type": "markdown",
   "metadata": {},
   "source": [
    "## Question-2"
   ]
  },
  {
   "cell_type": "code",
   "execution_count": 9,
   "metadata": {},
   "outputs": [
    {
     "name": "stdout",
     "output_type": "stream",
     "text": [
      "Training Error for depth-2: 0.628\n",
      "Test Error for depth-2: 0.6549805230940456\n",
      "\n",
      "\n",
      "Training Error for depth-3: 0.384\n",
      "Test Error for depth-3: 0.4852531997774068\n",
      "\n",
      "\n",
      "Training Error for depth-5: 0.09199999999999997\n",
      "Test Error for depth-5: 0.34668892598775736\n",
      "\n",
      "\n",
      "Training Error for depth-10: 0.0\n",
      "Test Error for depth-10: 0.320534223706177\n",
      "\n",
      "\n"
     ]
    },
    {
     "data": {
      "image/png": "[encoded data removed]",
      "text/plain": [
       "<Figure size 432x288 with 1 Axes>"
      ]
     },
     "metadata": {
      "needs_background": "light"
     },
     "output_type": "display_data"
    }
   ],
   "source": [
    "x_train_25 = X25[X25.columns[0:64]]\n",
    "y_train_25= X25[X25.columns[64]]\n",
    "x_test_25=test_data[test_data.columns[0:64]]\n",
    "y_test_25=test_data[test_data.columns[64]]\n",
    "max_depth = [2,3,5,10]\n",
    "for i in max_depth:\n",
    "    clf = DecisionTreeClassifier(criterion=\"entropy\", max_depth=i)\n",
    "    clf = clf.fit(x_train_25,y_train_25)\n",
    "    tree.plot_tree(clf,max_depth=i)\n",
    "    y_pred = clf.predict(x_train_25)\n",
    "    print(\"Training Error for depth-\"+str(i)+\":\",1-metrics.accuracy_score(y_train_25, y_pred))\n",
    "    y_pred = clf.predict(x_test_25)\n",
    "    print(\"Test Error for depth-\"+str(i)+\":\",1-metrics.accuracy_score(y_test_25, y_pred))\n",
    "    print(\"\\n\")"
   ]
  },
  {
   "cell_type": "code",
   "execution_count": 10,
   "metadata": {},
   "outputs": [
    {
     "name": "stdout",
     "output_type": "stream",
     "text": [
      "Training Error for depth-2: 0.637\n",
      "Test Error for depth-2: 0.6638842515303283\n",
      "\n",
      "\n",
      "Training Error for depth-3: 0.389\n",
      "Test Error for depth-3: 0.4718976071229828\n",
      "\n",
      "\n",
      "Training Error for depth-5: 0.118\n",
      "Test Error for depth-5: 0.23483583750695602\n",
      "\n",
      "\n",
      "Training Error for depth-10: 0.0\n",
      "Test Error for depth-10: 0.21368948247078468\n",
      "\n",
      "\n"
     ]
    },
    {
     "data": {
      "image/png": "[encoded data removed]",
      "text/plain": [
       "<Figure size 432x288 with 1 Axes>"
      ]
     },
     "metadata": {
      "needs_background": "light"
     },
     "output_type": "display_data"
    }
   ],
   "source": [
    "x_train_100 = X100[X100.columns[0:64]]\n",
    "y_train_100= X100[X100.columns[64]]\n",
    "x_test_100=test_data[test_data.columns[0:64]]\n",
    "y_test_100=test_data[test_data.columns[64]]\n",
    "max_depth = [2,3,5,10]\n",
    "for i in max_depth:\n",
    "    clf = DecisionTreeClassifier(criterion=\"entropy\", max_depth=i)\n",
    "    clf = clf.fit(x_train_100,y_train_100)\n",
    "    tree.plot_tree(clf,max_depth=i)\n",
    "    y_pred = clf.predict(x_train_100)\n",
    "    print(\"Training Error for depth-\"+str(i)+\":\",1-metrics.accuracy_score(y_train_100, y_pred))\n",
    "    y_pred = clf.predict(x_test_100)\n",
    "    print(\"Test Error for depth-\"+str(i)+\":\",1-metrics.accuracy_score(y_test_100, y_pred))\n",
    "    print(\"\\n\")"
   ]
  },
  {
   "cell_type": "markdown",
   "metadata": {},
   "source": [
    "### X100 test set with max_depth 10 has the best depth value as the number of instances change from 25 to 100, the error rate gets minimal"
   ]
  },
  {
   "cell_type": "markdown",
   "metadata": {},
   "source": [
    "## Question3"
   ]
  },
  {
   "cell_type": "markdown",
   "metadata": {},
   "source": [
    "## XGB"
   ]
  },
  {
   "cell_type": "code",
   "execution_count": 22,
   "metadata": {},
   "outputs": [
    {
     "name": "stdout",
     "output_type": "stream",
     "text": [
      "Training Error for depth-2: 0.06399999999999995\n",
      "Test Error for depth-2: 0.25375626043405675\n",
      "\n",
      "\n",
      "Training Error for depth-3: 0.0\n",
      "Test Error for depth-3: 0.16304952698942687\n",
      "\n",
      "\n",
      "Training Error for depth-5: 0.0\n",
      "Test Error for depth-5: 0.12687813021702843\n",
      "\n",
      "\n",
      "Training Error for depth-7: 0.0\n",
      "Test Error for depth-7: 0.13244296048970505\n",
      "\n",
      "\n",
      "Training Error for depth-9: 0.0\n",
      "Test Error for depth-9: 0.13522537562604342\n",
      "\n",
      "\n"
     ]
    }
   ],
   "source": [
    "max_depth = [2,3,5,7,9]\n",
    "learning_rate={2:0.01,3:0.05,5:0.30,7:0.50,9:0.1}\n",
    "#min_child_wt={2:2,3:5,5:9,7:10,9:15}\n",
    "\n",
    "for i in max_depth:\n",
    "    clf = XGBClassifier(max_depth=i, learning_rate=learning_rate[i],eval_metric='mlogloss')#, min_child_wt=min_child_wt[i])\n",
    "    clf = clf.fit(x_train_25,y_train_25)\n",
    "    y_pred = clf.predict(x_train_25)\n",
    "    print(\"Training Error for depth-\"+str(i)+\":\",1-metrics.accuracy_score(y_train_25, y_pred))\n",
    "    y_pred = clf.predict(x_test_25)\n",
    "    print(\"Test Error for depth-\"+str(i)+\":\",1-metrics.accuracy_score(y_test_25, y_pred))\n",
    "    print(\"\\n\")"
   ]
  },
  {
   "cell_type": "code",
   "execution_count": 23,
   "metadata": {},
   "outputs": [
    {
     "name": "stdout",
     "output_type": "stream",
     "text": [
      "Training Error for depth-2: 0.08599999999999997\n",
      "Test Error for depth-2: 0.18475236505286585\n",
      "\n",
      "\n",
      "Training Error for depth-3: 0.0010000000000000009\n",
      "Test Error for depth-3: 0.09515859766277124\n",
      "\n",
      "\n",
      "Training Error for depth-5: 0.0\n",
      "Test Error for depth-5: 0.07178631051752926\n",
      "\n",
      "\n",
      "Training Error for depth-10: 0.0\n",
      "Test Error for depth-10: 0.07289927657206452\n",
      "\n",
      "\n"
     ]
    }
   ],
   "source": [
    "max_depth = [2,3,5,10]\n",
    "learning_rate={2:0.01,3:0.05,5:0.30,10:0.50}\n",
    "for i in max_depth:\n",
    "    clf = XGBClassifier(max_depth=i,learning_rate=learning_rate[i],eval_metric='mlogloss')\n",
    "    clf = clf.fit(x_train_100,y_train_100)\n",
    "    y_pred = clf.predict(x_train_100)\n",
    "    print(\"Training Error for depth-\"+str(i)+\":\",1-metrics.accuracy_score(y_train_100, y_pred))\n",
    "    y_pred = clf.predict(x_test_100)\n",
    "    print(\"Test Error for depth-\"+str(i)+\":\",1-metrics.accuracy_score(y_test_100, y_pred))\n",
    "    print(\"\\n\")"
   ]
  },
  {
   "cell_type": "markdown",
   "metadata": {},
   "source": [
    "## Light GBM"
   ]
  },
  {
   "cell_type": "code",
   "execution_count": 13,
   "metadata": {},
   "outputs": [
    {
     "name": "stdout",
     "output_type": "stream",
     "text": [
      "Training Error for depth-2: 0.03600000000000003\n",
      "Test Error for depth-2: 0.19254312743461321\n",
      "\n",
      "\n",
      "Training Error for depth-3: 0.0\n",
      "Test Error for depth-3: 0.1279910962715637\n",
      "\n",
      "\n",
      "Training Error for depth-5: 0.0\n",
      "Test Error for depth-5: 0.1096271563717307\n",
      "\n",
      "\n",
      "Training Error for depth-10: 0.0\n",
      "Test Error for depth-10: 0.1096271563717307\n",
      "\n",
      "\n"
     ]
    }
   ],
   "source": [
    "max_depth = [2,3,5,10]\n",
    "learning_rate={2:0.01,3:0.05,5:0.30,10:0.50}\n",
    "num_of_leaves={2:3,3:5,5:8,10:8}\n",
    "for i in max_depth:\n",
    "    clf = lgb.LGBMClassifier(max_depth=i,learning_rate=learning_rate[i],num_leaves=num_of_leaves[i])\n",
    "    clf = clf.fit(x_train_25,y_train_25)\n",
    "    y_pred = clf.predict(x_train_25)\n",
    "    print(\"Training Error for depth-\"+str(i)+\":\",1-metrics.accuracy_score(y_train_25, y_pred))\n",
    "    y_pred = clf.predict(x_test_25)\n",
    "    print(\"Test Error for depth-\"+str(i)+\":\",1-metrics.accuracy_score(y_test_25, y_pred))\n",
    "    print(\"\\n\")"
   ]
  },
  {
   "cell_type": "code",
   "execution_count": 14,
   "metadata": {},
   "outputs": [
    {
     "name": "stdout",
     "output_type": "stream",
     "text": [
      "Training Error for depth-2: 0.07199999999999995\n",
      "Test Error for depth-2: 0.16917084028937113\n",
      "\n",
      "\n",
      "Training Error for depth-3: 0.0\n",
      "Test Error for depth-3: 0.06956037840845852\n",
      "\n",
      "\n",
      "Training Error for depth-5: 0.0\n",
      "Test Error for depth-5: 0.05954368391764053\n",
      "\n",
      "\n",
      "Training Error for depth-10: 0.0\n",
      "Test Error for depth-10: 0.06121313299944353\n",
      "\n",
      "\n"
     ]
    }
   ],
   "source": [
    "max_depth = [2,3,5,10]\n",
    "learning_rate={2:0.01,3:0.05,5:0.30,10:0.50}\n",
    "num_of_leaves={2:3,3:5,5:8,10:8}\n",
    "for i in max_depth:\n",
    "    clf = lgb.LGBMClassifier(max_depth=i,learning_rate=learning_rate[i],num_leaves=num_of_leaves[i])\n",
    "    clf = clf.fit(x_train_100,y_train_100)\n",
    "    y_pred = clf.predict(x_train_100)\n",
    "    print(\"Training Error for depth-\"+str(i)+\":\",1-metrics.accuracy_score(y_train_100, y_pred))\n",
    "    y_pred = clf.predict(x_test_100)\n",
    "    print(\"Test Error for depth-\"+str(i)+\":\",1-metrics.accuracy_score(y_test_100, y_pred))\n",
    "    print(\"\\n\")"
   ]
  },
  {
   "cell_type": "markdown",
   "metadata": {},
   "source": [
    "## Question4"
   ]
  },
  {
   "cell_type": "code",
   "execution_count": 24,
   "metadata": {},
   "outputs": [
    {
     "name": "stderr",
     "output_type": "stream",
     "text": [
      "C:\\Users\\STSC\\anaconda3\\lib\\site-packages\\sklearn\\neural_network\\_multilayer_perceptron.py:582: ConvergenceWarning: Stochastic Optimizer: Maximum iterations (1000) reached and the optimization hasn't converged yet.\n",
      "  warnings.warn(\n"
     ]
    },
    {
     "name": "stdout",
     "output_type": "stream",
     "text": [
      "Training Error for hidden_layers-2: 0.732\n",
      "Test Error for depth-2: 0.7607122982749026\n",
      "\n",
      "\n"
     ]
    },
    {
     "name": "stderr",
     "output_type": "stream",
     "text": [
      "C:\\Users\\STSC\\anaconda3\\lib\\site-packages\\sklearn\\neural_network\\_multilayer_perceptron.py:582: ConvergenceWarning: Stochastic Optimizer: Maximum iterations (1400) reached and the optimization hasn't converged yet.\n",
      "  warnings.warn(\n"
     ]
    },
    {
     "name": "stdout",
     "output_type": "stream",
     "text": [
      "Training Error for hidden_layers-3: 0.18400000000000005\n",
      "Test Error for depth-3: 0.38341680578742343\n",
      "\n",
      "\n",
      "Training Error for hidden_layers-5: 0.02400000000000002\n",
      "Test Error for depth-5: 0.3116304952698943\n",
      "\n",
      "\n",
      "Training Error for hidden_layers-10: 0.0\n",
      "Test Error for depth-10: 0.1886477462437396\n",
      "\n",
      "\n"
     ]
    }
   ],
   "source": [
    "Hid_layers = [2,3,5,10]\n",
    "max_iterations={2:1000,3:1400,5:1800,10:2000}\n",
    "for i in max_depth:\n",
    "    clf = MLPClassifier(hidden_layer_sizes=(i,),max_iter=max_iterations[i],activation = 'relu',solver='adam',random_state=1)\n",
    "    clf = clf.fit(x_train_25,y_train_25)\n",
    "    y_pred = clf.predict(x_train_25)\n",
    "    print(\"Training Error for hidden_layers-\"+str(i)+\":\",1-metrics.accuracy_score(y_train_25, y_pred))\n",
    "    y_pred = clf.predict(x_test_25)\n",
    "    print(\"Test Error for depth-\"+str(i)+\":\",1-metrics.accuracy_score(y_test_25, y_pred))\n",
    "    print(\"\\n\")"
   ]
  },
  {
   "cell_type": "code",
   "execution_count": 17,
   "metadata": {},
   "outputs": [
    {
     "name": "stdout",
     "output_type": "stream",
     "text": [
      "Training Error for hidden_layers-2: 0.897\n",
      "Test Error for depth-2: 0.899276572064552\n",
      "\n",
      "\n"
     ]
    },
    {
     "name": "stderr",
     "output_type": "stream",
     "text": [
      "C:\\Users\\STSC\\anaconda3\\lib\\site-packages\\sklearn\\neural_network\\_multilayer_perceptron.py:582: ConvergenceWarning: Stochastic Optimizer: Maximum iterations (1400) reached and the optimization hasn't converged yet.\n",
      "  warnings.warn(\n"
     ]
    },
    {
     "name": "stdout",
     "output_type": "stream",
     "text": [
      "Training Error for hidden_layers-3: 0.30300000000000005\n",
      "Test Error for depth-3: 0.3528102392877017\n",
      "\n",
      "\n",
      "Training Error for hidden_layers-5: 0.0050000000000000044\n",
      "Test Error for depth-5: 0.12353923205342232\n",
      "\n",
      "\n",
      "Training Error for hidden_layers-10: 0.0010000000000000009\n",
      "Test Error for depth-10: 0.10183639398998334\n",
      "\n",
      "\n"
     ]
    }
   ],
   "source": [
    "Hid_layers = [2,3,5,10]\n",
    "max_iterations={2:1000,3:1400,5:1800,10:2000}\n",
    "for i in max_depth:\n",
    "    clf = MLPClassifier(hidden_layer_sizes=(i,),max_iter=max_iterations[i],activation = 'relu',solver='adam',random_state=1)\n",
    "    clf = clf.fit(x_train_100,y_train_100)\n",
    "    y_pred = clf.predict(x_train_100)\n",
    "    print(\"Training Error for hidden_layers-\"+str(i)+\":\",1-metrics.accuracy_score(y_train_100, y_pred))\n",
    "    y_pred = clf.predict(x_test_100)\n",
    "    print(\"Test Error for hidden layers-\"+str(i)+\":\",1-metrics.accuracy_score(y_test_100, y_pred))\n",
    "    print(\"\\n\")"
   ]
  },
  {
   "cell_type": "markdown",
   "metadata": {},
   "source": [
    "## Question 5"
   ]
  },
  {
   "cell_type": "code",
   "execution_count": 33,
   "metadata": {
    "scrolled": true
   },
   "outputs": [
    {
     "name": "stdout",
     "output_type": "stream",
     "text": [
      "Error for each of the  16 features: \n"
     ]
    },
    {
     "name": "stderr",
     "output_type": "stream",
     "text": [
      "C:\\Users\\STSC\\anaconda3\\lib\\site-packages\\sklearn\\neural_network\\_multilayer_perceptron.py:582: ConvergenceWarning: Stochastic Optimizer: Maximum iterations (200) reached and the optimization hasn't converged yet.\n",
      "  warnings.warn(\n",
      "C:\\Users\\STSC\\anaconda3\\lib\\site-packages\\sklearn\\neural_network\\_multilayer_perceptron.py:582: ConvergenceWarning: Stochastic Optimizer: Maximum iterations (200) reached and the optimization hasn't converged yet.\n",
      "  warnings.warn(\n"
     ]
    },
    {
     "name": "stdout",
     "output_type": "stream",
     "text": [
      "The test Error for feature 48: 0.5281633448406688\n",
      "it is a easy to predict\n"
     ]
    },
    {
     "name": "stderr",
     "output_type": "stream",
     "text": [
      "C:\\Users\\STSC\\anaconda3\\lib\\site-packages\\sklearn\\neural_network\\_multilayer_perceptron.py:582: ConvergenceWarning: Stochastic Optimizer: Maximum iterations (200) reached and the optimization hasn't converged yet.\n",
      "  warnings.warn(\n"
     ]
    },
    {
     "name": "stdout",
     "output_type": "stream",
     "text": [
      "The test Error for feature 49: 0.8170340310412312\n",
      "it is a easy to predict\n"
     ]
    },
    {
     "name": "stderr",
     "output_type": "stream",
     "text": [
      "C:\\Users\\STSC\\anaconda3\\lib\\site-packages\\sklearn\\neural_network\\_multilayer_perceptron.py:582: ConvergenceWarning: Stochastic Optimizer: Maximum iterations (200) reached and the optimization hasn't converged yet.\n",
      "  warnings.warn(\n"
     ]
    },
    {
     "name": "stdout",
     "output_type": "stream",
     "text": [
      "The test Error for feature 50: 2.305377215285779\n",
      "It is not easy to predict\n",
      "The test Error for feature 51: 2.532534723671279\n",
      "It is not easy to predict\n"
     ]
    },
    {
     "name": "stderr",
     "output_type": "stream",
     "text": [
      "C:\\Users\\STSC\\anaconda3\\lib\\site-packages\\sklearn\\neural_network\\_multilayer_perceptron.py:582: ConvergenceWarning: Stochastic Optimizer: Maximum iterations (200) reached and the optimization hasn't converged yet.\n",
      "  warnings.warn(\n"
     ]
    },
    {
     "name": "stdout",
     "output_type": "stream",
     "text": [
      "The test Error for feature 52: 3.715140149651046\n",
      "It is not easy to predict\n"
     ]
    },
    {
     "name": "stderr",
     "output_type": "stream",
     "text": [
      "C:\\Users\\STSC\\anaconda3\\lib\\site-packages\\sklearn\\neural_network\\_multilayer_perceptron.py:582: ConvergenceWarning: Stochastic Optimizer: Maximum iterations (200) reached and the optimization hasn't converged yet.\n",
      "  warnings.warn(\n",
      "C:\\Users\\STSC\\anaconda3\\lib\\site-packages\\sklearn\\neural_network\\_multilayer_perceptron.py:582: ConvergenceWarning: Stochastic Optimizer: Maximum iterations (200) reached and the optimization hasn't converged yet.\n",
      "  warnings.warn(\n"
     ]
    },
    {
     "name": "stdout",
     "output_type": "stream",
     "text": [
      "The test Error for feature 53: 3.138932931011379\n",
      "It is not easy to predict\n",
      "The test Error for feature 54: 3.065485791944507\n",
      "It is not easy to predict\n"
     ]
    },
    {
     "name": "stderr",
     "output_type": "stream",
     "text": [
      "C:\\Users\\STSC\\anaconda3\\lib\\site-packages\\sklearn\\neural_network\\_multilayer_perceptron.py:582: ConvergenceWarning: Stochastic Optimizer: Maximum iterations (200) reached and the optimization hasn't converged yet.\n",
      "  warnings.warn(\n"
     ]
    },
    {
     "name": "stdout",
     "output_type": "stream",
     "text": [
      "The test Error for feature 55: 1.3048045039849963\n",
      "it is a easy to predict\n"
     ]
    },
    {
     "name": "stderr",
     "output_type": "stream",
     "text": [
      "C:\\Users\\STSC\\anaconda3\\lib\\site-packages\\sklearn\\neural_network\\_multilayer_perceptron.py:582: ConvergenceWarning: Stochastic Optimizer: Maximum iterations (200) reached and the optimization hasn't converged yet.\n",
      "  warnings.warn(\n"
     ]
    },
    {
     "name": "stdout",
     "output_type": "stream",
     "text": [
      "The test Error for feature 56: 0.5281633448406688\n",
      "it is a easy to predict\n"
     ]
    },
    {
     "name": "stderr",
     "output_type": "stream",
     "text": [
      "C:\\Users\\STSC\\anaconda3\\lib\\site-packages\\sklearn\\neural_network\\_multilayer_perceptron.py:582: ConvergenceWarning: Stochastic Optimizer: Maximum iterations (200) reached and the optimization hasn't converged yet.\n",
      "  warnings.warn(\n"
     ]
    },
    {
     "name": "stdout",
     "output_type": "stream",
     "text": [
      "The test Error for feature 57: 0.5327671820989032\n",
      "it is a easy to predict\n"
     ]
    },
    {
     "name": "stderr",
     "output_type": "stream",
     "text": [
      "C:\\Users\\STSC\\anaconda3\\lib\\site-packages\\sklearn\\neural_network\\_multilayer_perceptron.py:582: ConvergenceWarning: Stochastic Optimizer: Maximum iterations (200) reached and the optimization hasn't converged yet.\n",
      "  warnings.warn(\n"
     ]
    },
    {
     "name": "stdout",
     "output_type": "stream",
     "text": [
      "The test Error for feature 58: 1.1780368880771195\n",
      "it is a easy to predict\n"
     ]
    },
    {
     "name": "stderr",
     "output_type": "stream",
     "text": [
      "C:\\Users\\STSC\\anaconda3\\lib\\site-packages\\sklearn\\neural_network\\_multilayer_perceptron.py:582: ConvergenceWarning: Stochastic Optimizer: Maximum iterations (200) reached and the optimization hasn't converged yet.\n",
      "  warnings.warn(\n"
     ]
    },
    {
     "name": "stdout",
     "output_type": "stream",
     "text": [
      "The test Error for feature 59: 2.067287527563326\n",
      "It is not easy to predict\n",
      "The test Error for feature 60: 2.3935227996872266\n",
      "It is not easy to predict\n"
     ]
    },
    {
     "name": "stderr",
     "output_type": "stream",
     "text": [
      "C:\\Users\\STSC\\anaconda3\\lib\\site-packages\\sklearn\\neural_network\\_multilayer_perceptron.py:582: ConvergenceWarning: Stochastic Optimizer: Maximum iterations (200) reached and the optimization hasn't converged yet.\n",
      "  warnings.warn(\n"
     ]
    },
    {
     "name": "stdout",
     "output_type": "stream",
     "text": [
      "The test Error for feature 61: 2.9158082112678616\n",
      "It is not easy to predict\n"
     ]
    },
    {
     "name": "stderr",
     "output_type": "stream",
     "text": [
      "C:\\Users\\STSC\\anaconda3\\lib\\site-packages\\sklearn\\neural_network\\_multilayer_perceptron.py:582: ConvergenceWarning: Stochastic Optimizer: Maximum iterations (200) reached and the optimization hasn't converged yet.\n",
      "  warnings.warn(\n",
      "C:\\Users\\STSC\\anaconda3\\lib\\site-packages\\sklearn\\neural_network\\_multilayer_perceptron.py:582: ConvergenceWarning: Stochastic Optimizer: Maximum iterations (200) reached and the optimization hasn't converged yet.\n",
      "  warnings.warn(\n"
     ]
    },
    {
     "name": "stdout",
     "output_type": "stream",
     "text": [
      "The test Error for feature 62: 3.7984137618163807\n",
      "It is not easy to predict\n",
      "The test Error for feature 63: 0.8052693628536799\n",
      "it is a easy to predict\n"
     ]
    }
   ],
   "source": [
    "X100_class69 = train_data[train_data[64] == 6].sample(100)\n",
    "X100_class69 = X100_class69.append(train_data[train_data[64] == 9].sample(100))\n",
    "xtrain = X100_class69[X100_class69.columns[1:48]]\n",
    "test69 = test_data[test_data[64] == 6]\n",
    "test69.append(test_data[test_data[64] == 9])\n",
    "xtest = test69[test69.columns[1:48]]\n",
    "regressormodel = MLPRegressor(random_state = 0)\n",
    "print(\"Error for each of the  16 features: \")\n",
    "for i in range(48,64):\n",
    "    ytrain = X100_class69[i]\n",
    "    ytest = test69[i]\n",
    "    regressormodel.fit(xtrain, ytrain)\n",
    "    pred = regressormodel.predict(xtest)\n",
    "    print(f\"The test Error for feature {i}: {math.sqrt(mean_squared_error(ytest,pred))}\")\n",
    "    if math.sqrt(mean_squared_error(ytest,pred))<=2:\n",
    "        print(\"it is a easy to predict\")\n",
    "    else:\n",
    "        print('It is not easy to predict')"
   ]
  },
  {
   "cell_type": "markdown",
   "metadata": {},
   "source": [
    "### Pixels 48, 56 and 57 have got less error rate "
   ]
  },
  {
   "cell_type": "code",
   "execution_count": null,
   "metadata": {},
   "outputs": [],
   "source": []
  },
  {
   "cell_type": "code",
   "execution_count": null,
   "metadata": {},
   "outputs": [],
   "source": []
  },
  {
   "cell_type": "code",
   "execution_count": null,
   "metadata": {},
   "outputs": [],
   "source": []
  }
 ],
 "metadata": {
  "kernelspec": {
   "display_name": "Python 3",
   "language": "python",
   "name": "python3"
  },
  "language_info": {
   "codemirror_mode": {
    "name": "ipython",
    "version": 3
   },
   "file_extension": ".py",
   "mimetype": "text/x-python",
   "name": "python",
   "nbconvert_exporter": "python",
   "pygments_lexer": "ipython3",
   "version": "3.8.5"
  }
 },
 "nbformat": 4,
 "nbformat_minor": 4
}
